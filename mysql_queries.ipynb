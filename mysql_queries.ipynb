{
 "cells": [
  {
   "cell_type": "code",
   "execution_count": 1,
   "metadata": {},
   "outputs": [],
   "source": [
    "import mysql_funcs as myf\n",
    "import pandas as pd\n",
    "import numpy as np"
   ]
  },
  {
   "cell_type": "code",
   "execution_count": 2,
   "metadata": {},
   "outputs": [
    {
     "name": "stdout",
     "output_type": "stream",
     "text": [
      "MySQL Database connection successful\n"
     ]
    }
   ],
   "source": [
    "# Establish server connection\n",
    "passkey = input('Enter server password: ')\n",
    "connection = myf.create_server_connection('localhost', 'root', passkey)"
   ]
  },
  {
   "cell_type": "code",
   "execution_count": 3,
   "metadata": {},
   "outputs": [
    {
     "name": "stdout",
     "output_type": "stream",
     "text": [
      "Database created successfully\n"
     ]
    }
   ],
   "source": [
    "# Create Database\n",
    "create_database_query = \"CREATE DATABASE if not exists buyplus_sales\"\n",
    "myf.create_database(connection, create_database_query)"
   ]
  },
  {
   "cell_type": "code",
   "execution_count": 4,
   "metadata": {},
   "outputs": [
    {
     "name": "stdout",
     "output_type": "stream",
     "text": [
      "MySQL Database connection successful\n"
     ]
    }
   ],
   "source": [
    "#Connect to Database\n",
    "connection = myf.create_db_connection(\"localhost\",'root',passkey,'buyplus_sales')"
   ]
  },
  {
   "cell_type": "code",
   "execution_count": 5,
   "metadata": {},
   "outputs": [
    {
     "data": {
      "text/plain": [
       "[]"
      ]
     },
     "execution_count": 5,
     "metadata": {},
     "output_type": "execute_result"
    }
   ],
   "source": [
    "query = \"SELECT * FROM sales_data\"\n",
    "myf.read_query(connection,query)"
   ]
  },
  {
   "cell_type": "code",
   "execution_count": 6,
   "metadata": {},
   "outputs": [
    {
     "data": {
      "text/html": [
       "<div>\n",
       "<style scoped>\n",
       "    .dataframe tbody tr th:only-of-type {\n",
       "        vertical-align: middle;\n",
       "    }\n",
       "\n",
       "    .dataframe tbody tr th {\n",
       "        vertical-align: top;\n",
       "    }\n",
       "\n",
       "    .dataframe thead th {\n",
       "        text-align: right;\n",
       "    }\n",
       "</style>\n",
       "<table border=\"1\" class=\"dataframe\">\n",
       "  <thead>\n",
       "    <tr style=\"text-align: right;\">\n",
       "      <th></th>\n",
       "      <th>DATE</th>\n",
       "      <th>ITEMCODE</th>\n",
       "      <th>DESCRIPTION</th>\n",
       "      <th>QTY</th>\n",
       "      <th>PRICE</th>\n",
       "      <th>DISCOUNT</th>\n",
       "      <th>VAT</th>\n",
       "      <th>AMOUNT</th>\n",
       "      <th>PROFIT</th>\n",
       "      <th>VALUATION</th>\n",
       "      <th>...</th>\n",
       "      <th>INV</th>\n",
       "      <th>IGROUP</th>\n",
       "      <th>CUSTOMERCODE</th>\n",
       "      <th>BRANCHNICKNAME</th>\n",
       "      <th>SUPPLIERCODE</th>\n",
       "      <th>SUPPLIER</th>\n",
       "      <th>PROCESSBY</th>\n",
       "      <th>ORDERBY</th>\n",
       "      <th>SALESPOINT</th>\n",
       "      <th>PARTICULAR</th>\n",
       "    </tr>\n",
       "  </thead>\n",
       "  <tbody>\n",
       "    <tr>\n",
       "      <th>0</th>\n",
       "      <td>May 24 2022 12:53P</td>\n",
       "      <td>'5449000129383</td>\n",
       "      <td>EVA TABLE WATER 1.5L</td>\n",
       "      <td>1.0</td>\n",
       "      <td>160.0</td>\n",
       "      <td>0.0</td>\n",
       "      <td>0</td>\n",
       "      <td>160.0</td>\n",
       "      <td>39.17</td>\n",
       "      <td>120.83</td>\n",
       "      <td>...</td>\n",
       "      <td>117563</td>\n",
       "      <td>WATER</td>\n",
       "      <td>CASH</td>\n",
       "      <td>PONITEC MARKETS</td>\n",
       "      <td>NIGERIAN BOTTLING CO LTD</td>\n",
       "      <td>NIGERIAN BOTTLING CO. LTD.</td>\n",
       "      <td>RUTH</td>\n",
       "      <td>RUTH</td>\n",
       "      <td>server</td>\n",
       "      <td>9756</td>\n",
       "    </tr>\n",
       "    <tr>\n",
       "      <th>1</th>\n",
       "      <td>May 24 2022 12:42P</td>\n",
       "      <td>'5449000268686</td>\n",
       "      <td>SCHWEPPES CHAPMAN CAN 330CL</td>\n",
       "      <td>2.0</td>\n",
       "      <td>210.0</td>\n",
       "      <td>0.0</td>\n",
       "      <td>0</td>\n",
       "      <td>420.0</td>\n",
       "      <td>95.00</td>\n",
       "      <td>325.00</td>\n",
       "      <td>...</td>\n",
       "      <td>117556</td>\n",
       "      <td>CSD</td>\n",
       "      <td>CASH</td>\n",
       "      <td>PONITEC MARKETS</td>\n",
       "      <td>NIGERIAN BOTTLING CO LTD</td>\n",
       "      <td>NIGERIAN BOTTLING CO. LTD.</td>\n",
       "      <td>VIVIAN</td>\n",
       "      <td>VIVIAN</td>\n",
       "      <td>server</td>\n",
       "      <td>928</td>\n",
       "    </tr>\n",
       "    <tr>\n",
       "      <th>2</th>\n",
       "      <td>May 24 2022 11:51A</td>\n",
       "      <td>'5449000268686</td>\n",
       "      <td>SCHWEPPES CHAPMAN CAN 330CL</td>\n",
       "      <td>6.0</td>\n",
       "      <td>210.0</td>\n",
       "      <td>0.0</td>\n",
       "      <td>0</td>\n",
       "      <td>1260.0</td>\n",
       "      <td>285.00</td>\n",
       "      <td>975.00</td>\n",
       "      <td>...</td>\n",
       "      <td>117514</td>\n",
       "      <td>CSD</td>\n",
       "      <td>CASH</td>\n",
       "      <td>PONITEC MARKETS</td>\n",
       "      <td>NIGERIAN BOTTLING CO LTD</td>\n",
       "      <td>NIGERIAN BOTTLING CO. LTD.</td>\n",
       "      <td>STELLA</td>\n",
       "      <td>STELLA</td>\n",
       "      <td>POS6</td>\n",
       "      <td>9364</td>\n",
       "    </tr>\n",
       "    <tr>\n",
       "      <th>3</th>\n",
       "      <td>May 24 2022 11:31A</td>\n",
       "      <td>'5449000143419</td>\n",
       "      <td>SCHWEPPES PINEAPPLE CAN 330CL</td>\n",
       "      <td>1.0</td>\n",
       "      <td>210.0</td>\n",
       "      <td>0.0</td>\n",
       "      <td>0</td>\n",
       "      <td>210.0</td>\n",
       "      <td>47.50</td>\n",
       "      <td>162.50</td>\n",
       "      <td>...</td>\n",
       "      <td>117502</td>\n",
       "      <td>CSD</td>\n",
       "      <td>CASH</td>\n",
       "      <td>PONITEC MARKETS</td>\n",
       "      <td>NIGERIAN BOTTLING CO LTD</td>\n",
       "      <td>NIGERIAN BOTTLING CO. LTD.</td>\n",
       "      <td>STELLA</td>\n",
       "      <td>STELLA</td>\n",
       "      <td>POS6</td>\n",
       "      <td>NaN</td>\n",
       "    </tr>\n",
       "    <tr>\n",
       "      <th>4</th>\n",
       "      <td>May 24 2022 11:15A</td>\n",
       "      <td>'5449000129383</td>\n",
       "      <td>EVA TABLE WATER 1.5L</td>\n",
       "      <td>1.0</td>\n",
       "      <td>160.0</td>\n",
       "      <td>0.0</td>\n",
       "      <td>0</td>\n",
       "      <td>160.0</td>\n",
       "      <td>39.17</td>\n",
       "      <td>120.83</td>\n",
       "      <td>...</td>\n",
       "      <td>117492</td>\n",
       "      <td>WATER</td>\n",
       "      <td>CASH</td>\n",
       "      <td>PONITEC MARKETS</td>\n",
       "      <td>NIGERIAN BOTTLING CO LTD</td>\n",
       "      <td>NIGERIAN BOTTLING CO. LTD.</td>\n",
       "      <td>VIVIAN</td>\n",
       "      <td>VIVIAN</td>\n",
       "      <td>server</td>\n",
       "      <td>NaN</td>\n",
       "    </tr>\n",
       "  </tbody>\n",
       "</table>\n",
       "<p>5 rows × 23 columns</p>\n",
       "</div>"
      ],
      "text/plain": [
       "                 DATE        ITEMCODE                    DESCRIPTION  QTY  \\\n",
       "0  May 24 2022 12:53P  '5449000129383           EVA TABLE WATER 1.5L  1.0   \n",
       "1  May 24 2022 12:42P  '5449000268686    SCHWEPPES CHAPMAN CAN 330CL  2.0   \n",
       "2  May 24 2022 11:51A  '5449000268686    SCHWEPPES CHAPMAN CAN 330CL  6.0   \n",
       "3  May 24 2022 11:31A  '5449000143419  SCHWEPPES PINEAPPLE CAN 330CL  1.0   \n",
       "4  May 24 2022 11:15A  '5449000129383           EVA TABLE WATER 1.5L  1.0   \n",
       "\n",
       "   PRICE  DISCOUNT  VAT  AMOUNT  PROFIT  VALUATION  ...     INV IGROUP  \\\n",
       "0  160.0       0.0    0   160.0   39.17     120.83  ...  117563  WATER   \n",
       "1  210.0       0.0    0   420.0   95.00     325.00  ...  117556    CSD   \n",
       "2  210.0       0.0    0  1260.0  285.00     975.00  ...  117514    CSD   \n",
       "3  210.0       0.0    0   210.0   47.50     162.50  ...  117502    CSD   \n",
       "4  160.0       0.0    0   160.0   39.17     120.83  ...  117492  WATER   \n",
       "\n",
       "  CUSTOMERCODE   BRANCHNICKNAME              SUPPLIERCODE  \\\n",
       "0         CASH  PONITEC MARKETS  NIGERIAN BOTTLING CO LTD   \n",
       "1         CASH  PONITEC MARKETS  NIGERIAN BOTTLING CO LTD   \n",
       "2         CASH  PONITEC MARKETS  NIGERIAN BOTTLING CO LTD   \n",
       "3         CASH  PONITEC MARKETS  NIGERIAN BOTTLING CO LTD   \n",
       "4         CASH  PONITEC MARKETS  NIGERIAN BOTTLING CO LTD   \n",
       "\n",
       "                     SUPPLIER PROCESSBY ORDERBY SALESPOINT PARTICULAR  \n",
       "0  NIGERIAN BOTTLING CO. LTD.      RUTH    RUTH     server       9756  \n",
       "1  NIGERIAN BOTTLING CO. LTD.    VIVIAN  VIVIAN     server        928  \n",
       "2  NIGERIAN BOTTLING CO. LTD.    STELLA  STELLA       POS6       9364  \n",
       "3  NIGERIAN BOTTLING CO. LTD.    STELLA  STELLA       POS6        NaN  \n",
       "4  NIGERIAN BOTTLING CO. LTD.    VIVIAN  VIVIAN     server        NaN  \n",
       "\n",
       "[5 rows x 23 columns]"
      ]
     },
     "execution_count": 6,
     "metadata": {},
     "output_type": "execute_result"
    }
   ],
   "source": [
    "df = pd.read_excel(\"C:\\\\Users\\\\kevez\\\\OneDrive\\\\Documents\\\\COMPANIES\\\\BUYPLUS - PONITEC\\\\DAILLY SALES\\\\MAY 2022\\\\Sales Data - 24MAY2022.xlsx\")\n",
    "df.head()"
   ]
  },
  {
   "cell_type": "code",
   "execution_count": 7,
   "metadata": {},
   "outputs": [
    {
     "name": "stdout",
     "output_type": "stream",
     "text": [
      "<class 'pandas.core.frame.DataFrame'>\n",
      "RangeIndex: 2255 entries, 0 to 2254\n",
      "Data columns (total 23 columns):\n",
      " #   Column          Non-Null Count  Dtype  \n",
      "---  ------          --------------  -----  \n",
      " 0   DATE            2255 non-null   object \n",
      " 1   ITEMCODE        2255 non-null   object \n",
      " 2   DESCRIPTION     2255 non-null   object \n",
      " 3   QTY             2255 non-null   float64\n",
      " 4   PRICE           2255 non-null   float64\n",
      " 5   DISCOUNT        2255 non-null   float64\n",
      " 6   VAT             2255 non-null   int64  \n",
      " 7   AMOUNT          2255 non-null   float64\n",
      " 8   PROFIT          2255 non-null   float64\n",
      " 9   VALUATION       2255 non-null   float64\n",
      " 10  COST            2255 non-null   float64\n",
      " 11  SALESTYPE       2255 non-null   object \n",
      " 12  CASHIER         2255 non-null   object \n",
      " 13  INV             2255 non-null   int64  \n",
      " 14  IGROUP          2255 non-null   object \n",
      " 15  CUSTOMERCODE    2255 non-null   object \n",
      " 16  BRANCHNICKNAME  2255 non-null   object \n",
      " 17  SUPPLIERCODE    2251 non-null   object \n",
      " 18  SUPPLIER        2158 non-null   object \n",
      " 19  PROCESSBY       2253 non-null   object \n",
      " 20  ORDERBY         2253 non-null   object \n",
      " 21  SALESPOINT      2255 non-null   object \n",
      " 22  PARTICULAR      1091 non-null   object \n",
      "dtypes: float64(7), int64(2), object(14)\n",
      "memory usage: 405.3+ KB\n"
     ]
    }
   ],
   "source": [
    "df.info()"
   ]
  },
  {
   "cell_type": "code",
   "execution_count": 8,
   "metadata": {},
   "outputs": [],
   "source": [
    "def getColumnDtypes(dataTypes):\n",
    "    dataList = []\n",
    "    for x in dataTypes:\n",
    "        if(x == 'int64'):\n",
    "            dataList.append('int')\n",
    "        elif (x == 'float64'):\n",
    "            dataList.append('float')\n",
    "        elif (x == 'bool'):\n",
    "            dataList.append('boolean')\n",
    "        else:\n",
    "            dataList.append('varchar(255)')\n",
    "    return dataList\n",
    "\n",
    "columnDataType = getColumnDtypes(df.dtypes)"
   ]
  },
  {
   "cell_type": "code",
   "execution_count": 9,
   "metadata": {},
   "outputs": [
    {
     "data": {
      "text/plain": [
       "['DATE',\n",
       " 'ITEMCODE',\n",
       " 'DESCRIPTION',\n",
       " 'QTY',\n",
       " 'PRICE',\n",
       " 'DISCOUNT',\n",
       " 'VAT',\n",
       " 'AMOUNT',\n",
       " 'PROFIT',\n",
       " 'VALUATION',\n",
       " 'COST',\n",
       " 'SALESTYPE',\n",
       " 'CASHIER',\n",
       " 'INV',\n",
       " 'IGROUP',\n",
       " 'CUSTOMERCODE',\n",
       " 'BRANCHNICKNAME',\n",
       " 'SUPPLIERCODE',\n",
       " 'SUPPLIER',\n",
       " 'PROCESSBY',\n",
       " 'ORDERBY',\n",
       " 'SALESPOINT',\n",
       " 'PARTICULAR']"
      ]
     },
     "execution_count": 9,
     "metadata": {},
     "output_type": "execute_result"
    }
   ],
   "source": [
    "columnName = list(df.columns.values)\n",
    "columnName"
   ]
  },
  {
   "cell_type": "code",
   "execution_count": 10,
   "metadata": {},
   "outputs": [],
   "source": [
    "createTableStatement = 'CREATE TABLE if not exists sales_data ('\n",
    "for i in range(len(columnDataType)):\n",
    "    createTableStatement = createTableStatement + '\\n' + columnName[i] + ' ' + columnDataType[i] + ','\n",
    "createTableStatement = createTableStatement[:-1] + ' );'\n",
    "\n"
   ]
  },
  {
   "cell_type": "code",
   "execution_count": 11,
   "metadata": {},
   "outputs": [
    {
     "data": {
      "text/plain": [
       "'CREATE TABLE if not exists sales_data (\\nDATE varchar(255),\\nITEMCODE varchar(255),\\nDESCRIPTION varchar(255),\\nQTY float,\\nPRICE float,\\nDISCOUNT float,\\nVAT int,\\nAMOUNT float,\\nPROFIT float,\\nVALUATION float,\\nCOST float,\\nSALESTYPE varchar(255),\\nCASHIER varchar(255),\\nINV int,\\nIGROUP varchar(255),\\nCUSTOMERCODE varchar(255),\\nBRANCHNICKNAME varchar(255),\\nSUPPLIERCODE varchar(255),\\nSUPPLIER varchar(255),\\nPROCESSBY varchar(255),\\nORDERBY varchar(255),\\nSALESPOINT varchar(255),\\nPARTICULAR varchar(255) );'"
      ]
     },
     "execution_count": 11,
     "metadata": {},
     "output_type": "execute_result"
    }
   ],
   "source": [
    "createTableStatement"
   ]
  },
  {
   "cell_type": "code",
   "execution_count": 13,
   "metadata": {},
   "outputs": [
    {
     "data": {
      "text/plain": [
       "[]"
      ]
     },
     "execution_count": 13,
     "metadata": {},
     "output_type": "execute_result"
    }
   ],
   "source": [
    "myf.read_query(connection,query)\n"
   ]
  },
  {
   "cell_type": "code",
   "execution_count": null,
   "metadata": {},
   "outputs": [],
   "source": []
  }
 ],
 "metadata": {
  "kernelspec": {
   "display_name": "Python 3.8.8 ('base')",
   "language": "python",
   "name": "python3"
  },
  "language_info": {
   "codemirror_mode": {
    "name": "ipython",
    "version": 3
   },
   "file_extension": ".py",
   "mimetype": "text/x-python",
   "name": "python",
   "nbconvert_exporter": "python",
   "pygments_lexer": "ipython3",
   "version": "3.8.8"
  },
  "orig_nbformat": 4,
  "vscode": {
   "interpreter": {
    "hash": "f26e08a5b0bb6f4c4a146e7eec85141c77d6e2cfd4e070e577645da8d5f239d9"
   }
  }
 },
 "nbformat": 4,
 "nbformat_minor": 2
}
